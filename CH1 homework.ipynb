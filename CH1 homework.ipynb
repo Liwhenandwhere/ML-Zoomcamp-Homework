{
 "cells": [
  {
   "cell_type": "code",
   "execution_count": null,
   "id": "d1d9cec0-b221-4c67-98ae-27e29cdfa3c1",
   "metadata": {
    "vscode": {
     "languageId": "python"
    }
   },
   "outputs": [],
   "source": [
    "import numpy as np\n",
    "import pandas as pd"
   ]
  },
  {
   "cell_type": "code",
   "execution_count": null,
   "id": "cada9122",
   "metadata": {
    "vscode": {
     "languageId": "python"
    }
   },
   "outputs": [],
   "source": []
  }
 ],
 "metadata": {
  "kernelspec": {
   "display_name": "",
   "name": ""
  },
  "language_info": {
   "name": ""
  }
 },
 "nbformat": 4,
 "nbformat_minor": 5
}
